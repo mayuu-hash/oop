{
 "cells": [
  {
   "cell_type": "markdown",
   "id": "ca1c08be-b2be-4dcb-b1cc-18214dc2a2cd",
   "metadata": {},
   "source": [
    "# Theory Questions"
   ]
  },
  {
   "cell_type": "markdown",
   "id": "bebdfb31-7c74-4168-b213-9c780ad15964",
   "metadata": {},
   "source": [
    "# 1. What is Object-Oriented Programming(OOP)?\n",
    "Ans - OOP is a programming paradigm that organizes software design around objects rather than functions and logic. It focuses on creating reusable code through concepts like classes, objects, inheritance, polymorphism, and encapsulation."
   ]
  },
  {
   "cell_type": "markdown",
   "id": "84ce5fc1-6fde-4cfd-bffc-784fb1f0be41",
   "metadata": {},
   "source": [
    "# 2. What is a class in OOP?\n",
    "Ans - A class is a blueprint for creating objects. It defines the attributes (data) and methods (functions) that the objects created from the class will have. Classes encapsulate data for the object and define behaviors that operate on that data."
   ]
  },
  {
   "cell_type": "markdown",
   "id": "105350d1-b921-400b-ac59-9ea3a9a7e325",
   "metadata": {},
   "source": [
    "# 3.What is an object in OOP?\n",
    "Ans - An object is an instance of a class. It contains data (attributes) and behavior (methods) defined by its class. Objects are created from classes and represent specific instances of the abstract concept defined by the class."
   ]
  },
  {
   "cell_type": "markdown",
   "id": "8ff041d7-a569-437c-a0a2-0c2b8fbfc110",
   "metadata": {},
   "source": [
    "# 4. What is the difference between abstraction and encapsulation?\n",
    "Ans - Abstraction focuses on hiding complex implementation details and showing only the essential features, while encapsulation bundles data and methods that operate on that data within a single unit(class) and restricts direct access to some components."
   ]
  },
  {
   "cell_type": "markdown",
   "id": "d3421b3b-6702-444d-a539-62aa872b300c",
   "metadata": {},
   "source": [
    "# 5. What are the dunder methods in Python?\n",
    "Ans - Dunder (double underscore) methods are special methods in Python that start and end with double underscores (e.g., __init__, __str__). They allow operator overloading and other special behaviors."
   ]
  },
  {
   "cell_type": "markdown",
   "id": "7b8d5a6f-4f4d-45a6-be22-389414812f45",
   "metadata": {},
   "source": [
    "# 6. Explain the concept of inheritance in OOP?\n",
    "Ans - Inheritance allows a class (child) to inherit attributes and methods from another class (parent). It promotes code reusability and establishes a hierarchical relationship between classes."
   ]
  },
  {
   "cell_type": "markdown",
   "id": "5edc7e15-6dc1-4f7b-b77d-168d62c30de1",
   "metadata": {},
   "source": [
    "# 7. What is polymorphism in OOP?\n",
    "Ans - Polymorphism allows objects of different classes to be treated as objects of a common superclass. It enables methods to behave differently based on the object calling them. The same method name can have different implementations in different classes.\n"
   ]
  },
  {
   "cell_type": "markdown",
   "id": "cae0967c-2831-4884-afe9-a0408f1b34c8",
   "metadata": {},
   "source": [
    "# 8. How is encapsulation achieved in Python?\n",
    "Ans - Encapsulation in Python is achieved by:\n",
    "- Using naming conventions (single underscore _var for protected, double underscore __var for private)\n",
    "- Using property decorators (@property) to control access to attributes\n",
    "- Providing getter and setter methods to access private attributes\n",
    "- Keeping implementation details hidden and exposing only necessary interfaces\n"
   ]
  },
  {
   "cell_type": "markdown",
   "id": "4759cc44-f1bd-42eb-a831-5308cfe18655",
   "metadata": {},
   "source": [
    "# 9. What is constructor in Python?\n",
    "Ans - A constructor is a special method (__init__) that is automatically called when an object is created. It initializes the object's attributes. The constructor can take parameters to set initial values for the object's attributes."
   ]
  },
  {
   "cell_type": "markdown",
   "id": "1c63509a-b393-458b-bca1-c276da5c0174",
   "metadata": {},
   "source": [
    "# 10. What are the class and static method in Python?\n",
    "Ans - *Class methods* (@classmethod): Take the class (cls) as first argument and can modify class state. They're bound to the class rather than the instance.\n",
    "- *Static methods* (@staticmethod): Don't take any special first argument (no self or cls). They behave like regular functions but belong to the class's namespace. They can't modify class or instance state.\n"
   ]
  },
  {
   "cell_type": "markdown",
   "id": "aae5e5fa-b331-4be6-b625-542f620ad8a1",
   "metadata": {},
   "source": [
    "# 11. What are method overloading in python?\n",
    "Ans - Method overloading allows multiple methods with the same name but different parameters. Python doesn't support traditional method overloading like other languages, but we can achieve similar functionality using default arguments or variable-length arguments."
   ]
  },
  {
   "cell_type": "markdown",
   "id": "4924c099-385d-4be8-b73d-ab3eeff7e5c4",
   "metadata": {},
   "source": [
    "# 12. What are method overriding in Python?\n",
    "Ans - Method overriding occurs when a child class provides a specific implementation of a method that is already defined in its parent class. The overridden method in the child class has the same name, parameters, and return type as the parent class method.\n"
   ]
  },
  {
   "cell_type": "markdown",
   "id": "72a66690-2cf9-45ec-9853-3f981baff240",
   "metadata": {},
   "source": [
    "# 13. What is a property decorator in Python?\n",
    "Ans - The @property decorator allows a method to be accessed like an attribute. It's used to create getters, setters, and deleters for class attributes while maintaining encapsulation. It provides a way to customize attribute access without changing the public interface.\n"
   ]
  },
  {
   "cell_type": "markdown",
   "id": "d8ab383e-27ea-4bee-9a05-e322cf15c69e",
   "metadata": {},
   "source": [
    "# 14. Why is polymorphism important in OOP?\n",
    "Ans - Polymorphism is important because:\n",
    "- It allows for flexible and extensible code\n",
    "- Enables writing more generic and reusable code\n",
    "- Makes code easier to maintain and modify\n",
    "- Supports interface-based programming\n",
    "- Allows different objects to respond to the same method call in different ways\n"
   ]
  },
  {
   "cell_type": "markdown",
   "id": "c54c3075-5885-4573-8ac7-4016f4a444ee",
   "metadata": {},
   "source": [
    "# 15. What is an abstract class in Python?\n",
    "Ans - An abstract class is a class that cannot be instantiated and is meant to be subclassed. It contains one or more abstract methods (methods declared but not implemented). In Python, abstract classes are created using the abc module and the @abstractmethod decorator.\n"
   ]
  },
  {
   "cell_type": "markdown",
   "id": "5314eddf-35ad-471c-a05f-d0bda4715ad7",
   "metadata": {},
   "source": [
    "# 16. What are the advantages of OOP?\n",
    "Ans - Advantages of OOP include:\n",
    "- Code reusability through inheritance\n",
    "- Modularity (code is organized into self-contained objects)\n",
    "- Easier maintenance and modification\n",
    "- Data hiding and encapsulation for security\n",
    "- Better problem-solving for real-world scenarios\n",
    "- Polymorphism allows flexibility in programming\n",
    "- Easier collaboration (different teams can work on different classes)\n"
   ]
  },
  {
   "cell_type": "markdown",
   "id": "eb0bf2be-afb5-412d-ad1c-8de4e6150f05",
   "metadata": {},
   "source": [
    "# 17. What is the difference between a class variable and an instance variable?\n",
    "Ans - A Class variable is Shared by all instances of the class. Defined within the class but outside any methods. Changed using the class name.\n",
    "Instance variable is Unique to each instance of the class. Defined inside methods (usually __init__). Changed using the instance name"
   ]
  },
  {
   "cell_type": "markdown",
   "id": "9e911c5d-6727-4669-af1d-9e61d969c2c0",
   "metadata": {},
   "source": [
    "# 18. What is multiple inheritance in Python?\n",
    "Ans - Multiple inheritance allows a class to inherit from more than one parent class. The child class inherits attributes and methods from all parent classes. Python uses method resolution order (MRO) to determine which method to call when there are naming conflicts."
   ]
  },
  {
   "cell_type": "markdown",
   "id": "35a2571d-2953-418e-b58b-93323f747484",
   "metadata": {},
   "source": [
    "# 19. Explain the purpose of __str__ and __repr__ methods in Python?\n",
    "Ans - __str__: Returns a human-readable string representation of the object (for end users). Called by str() and print().\n",
    " __repr__: Returns an unambiguous string representation of the object (for developers). Called by repr() and used in the interpreter. Should ideally allow object recreation with eval().\n"
   ]
  },
  {
   "cell_type": "markdown",
   "id": "81a70b1e-3490-4540-b436-c94b8cd7a5c3",
   "metadata": {},
   "source": [
    "# 20. What is the significance of the super() function in Python?\n",
    "Ans - super() returns a temporary object of the superclass, allowing you to call its methods. It's used to:\n",
    "- Access parent class methods in inheritance\n",
    "- Avoid hardcoding parent class names\n",
    "- Handle multiple inheritance properly\n",
    "- Call parent class constructors (__init__)\n"
   ]
  },
  {
   "cell_type": "markdown",
   "id": "e8620623-15cd-4f61-92af-4c64fa46d30c",
   "metadata": {},
   "source": [
    "# 21. What is the significance of __del__ method in Python?\n",
    "Ans - __del__ is a destructor method called when an object is about to be destroyed. It's used to:\n",
    "- Perform cleanup operations\n",
    "- Release resources (like file handles or network connections)\n",
    "- Note: Not reliable for critical cleanup (better to use context managers)\n"
   ]
  },
  {
   "cell_type": "markdown",
   "id": "ee11bf83-30a1-4999-9e6e-e76a3691f625",
   "metadata": {},
   "source": [
    "# 22. What is the difference between @staticmethod and @classmethod in Python?\n",
    "Ans - @staticmethod: Doesn't receive any implicit first argument. Can't access or modify class state. Behaves like a regular function but belongs to the class's namespace.\n",
    "@classmethod: Receives the class (cls) as first argument. Can access and modify class state. Often used as alternative constructors"
   ]
  },
  {
   "cell_type": "markdown",
   "id": "eed8cf2c-f3ee-4659-8e5e-6770703c025b",
   "metadata": {},
   "source": [
    "# 23. How does polymorphism work in Python with inheritance?\n",
    "Ans - In Python, polymorphism with inheritance works through method overriding. When a child class inherits from a parent class, it can:\n",
    "- Inherit methods as-is\n",
    "- Override methods with new implementations\n",
    "- Extend methods (call parent method and add new behavior)\n",
    "Python determines which version of the method to call based on the object's type at runtime"
   ]
  },
  {
   "cell_type": "markdown",
   "id": "f85034c1-b6d3-4036-b331-43114ffbfeaa",
   "metadata": {},
   "source": [
    "# 24. What is method chaining in Python OOP?\n",
    "Ans - Method chaining is a technique where multiple method calls are chained together in a single statement. Each method returns the object itself (or another object), allowing the next method to be called on it. This is achieved by returning self from methods.\n"
   ]
  },
  {
   "cell_type": "markdown",
   "id": "79e07c68-3832-4738-b6d3-617d3e103056",
   "metadata": {},
   "source": [
    "# 25. What is the purpose of __call__ method in Python?\n",
    "Ans - The __call__ method allows an instance of a class to be called like a function. When defined, you can use the syntax instance() which invokes __call__. It's used to:\n",
    "- Create callable objects\n",
    "- Implement function-like classes\n",
    "- Maintain state between calls\n",
    "- Implement decorator classes"
   ]
  },
  {
   "cell_type": "markdown",
   "id": "f9d61cad-a821-40d4-b425-bb5c1f8f0211",
   "metadata": {},
   "source": [
    "# Practical Questions"
   ]
  },
  {
   "cell_type": "markdown",
   "id": "64b62314-60ac-4f28-81b4-9a2c8a4c3ad8",
   "metadata": {},
   "source": [
    "# 1. Create a parent class Animal with a method speak() that prints a generic message. Create a child class Dog that overrides the speak() method to print \"Bark!\"."
   ]
  },
  {
   "cell_type": "code",
   "execution_count": 2,
   "id": "0ec19a36-98ad-48b0-9e99-0ce3080d3c67",
   "metadata": {},
   "outputs": [
    {
     "name": "stdout",
     "output_type": "stream",
     "text": [
      "Bark!\n"
     ]
    }
   ],
   "source": [
    "class Animal:\n",
    "    def speak(self):\n",
    "        print(\"Animal makes a sound\")\n",
    "\n",
    "class Dog(Animal):\n",
    "    def speak(self):\n",
    "        print(\"Bark!\")\n",
    "\n",
    "dog = Dog()\n",
    "dog.speak()"
   ]
  },
  {
   "cell_type": "markdown",
   "id": "7ad4be97-fc30-4d08-874b-fae40b544f47",
   "metadata": {},
   "source": [
    "# 2. Write a program to create an abstract class Shape with a method area(). Derive classes Circle and Rectangle from it and implement the area() method in both."
   ]
  },
  {
   "cell_type": "code",
   "execution_count": 40,
   "id": "bfe1fa2a-b774-4d8a-9d5d-d3a0f9021f59",
   "metadata": {},
   "outputs": [
    {
     "name": "stdout",
     "output_type": "stream",
     "text": [
      "Circle area: 78.54\n",
      "Rectangle area: 28\n"
     ]
    }
   ],
   "source": [
    "from abc import ABC, abstractmethod\n",
    "import math\n",
    "\n",
    "class Shape(ABC):\n",
    "    @abstractmethod\n",
    "    def area(self):\n",
    "        pass\n",
    "\n",
    "class Circle(Shape):\n",
    "    def __init__(self, radius):\n",
    "        self.radius = radius\n",
    "\n",
    "    def area(self):\n",
    "        return math.pi * self.radius ** 2\n",
    "\n",
    "class Rectangle(Shape):\n",
    "    def __init__(self, length, width):\n",
    "        self.length = length\n",
    "        self.width = width\n",
    "\n",
    "    def area(self):\n",
    "        return self.length * self.width\n",
    "\n",
    "circle = Circle(5)\n",
    "rectangle = Rectangle(4, 7)\n",
    "\n",
    "print(f\"Circle area: {circle.area():.2f}\")\n",
    "print(f\"Rectangle area: {rectangle.area()}\")"
   ]
  },
  {
   "cell_type": "markdown",
   "id": "807422b2-2fde-4757-bd55-58462cc1b4e0",
   "metadata": {},
   "source": [
    "# 3. Emplement a multi-level inheritance scenario where a class Vehicle has an attribute type. Derive a class Car and further derive a class ElectricCar that adds a battery attribute.\n"
   ]
  },
  {
   "cell_type": "code",
   "execution_count": 12,
   "id": "3fa393b0-b2fb-48ad-89bf-cc5870afe56c",
   "metadata": {},
   "outputs": [
    {
     "name": "stdout",
     "output_type": "stream",
     "text": [
      "Electric Model S 100KWh\n"
     ]
    }
   ],
   "source": [
    "class Vehicle:\n",
    "    def __init__(self, vehicle_type):\n",
    "        self.type = vehicle_type\n",
    "\n",
    "class Car(Vehicle):\n",
    "    def __init__(self, vehicle_type, model):\n",
    "        super().__init__(vehicle_type)\n",
    "        self.model = model\n",
    "\n",
    "class ElectricCar(Car):\n",
    "    def __init__(self, vehicle_type, model, battery_capacity):\n",
    "        super().__init__(vehicle_type, model)\n",
    "        self.battery_capacity = battery_capacity\n",
    "\n",
    "tesla = ElectricCar(\"Electric\", \"Model S\", \"100KWh\")\n",
    "print(tesla.type, tesla.model, tesla.battery_capacity)"
   ]
  },
  {
   "cell_type": "markdown",
   "id": "f757e26f-0959-469b-8eb9-caa3f4173312",
   "metadata": {},
   "source": [
    "# 4. Demonstrate polymorphism by creating a base class Bird with a method fly(). Create two derived classes Sparrow and Penguin that override the fly() method.\n"
   ]
  },
  {
   "cell_type": "code",
   "execution_count": 13,
   "id": "406b3eeb-babd-4c49-a44c-d9713a6a2918",
   "metadata": {},
   "outputs": [
    {
     "name": "stdout",
     "output_type": "stream",
     "text": [
      "Sparrow flying rapidly\n",
      "Penguin cannot fly\n"
     ]
    }
   ],
   "source": [
    "class Bird:\n",
    "    def fly(self):\n",
    "        print(\"Bird flying\")\n",
    "\n",
    "class Sparrow(Bird):\n",
    "    def fly(self):\n",
    "        print(\"Sparrow flying rapidly\")\n",
    "\n",
    "class Penguin(Bird):\n",
    "    def fly(self):\n",
    "        print(\"Penguin cannot fly\")\n",
    "\n",
    "birds = [Sparrow(), Penguin()]\n",
    "for bird in birds:\n",
    "    bird.fly()"
   ]
  },
  {
   "cell_type": "markdown",
   "id": "ef68ae43-7b68-4037-bea2-3155f8c55e1b",
   "metadata": {},
   "source": [
    "# 5. Write a program to demonstrate encapsulation by creating a class BankAccount with private attributes balance and methods to deposit, withdraw, and check balance.\n",
    "\n",
    "\n"
   ]
  },
  {
   "cell_type": "code",
   "execution_count": 14,
   "id": "3e74ab80-d8c0-4e1f-9316-25191f60f079",
   "metadata": {},
   "outputs": [
    {
     "name": "stdout",
     "output_type": "stream",
     "text": [
      "1500\n"
     ]
    }
   ],
   "source": [
    "class BankAccount:\n",
    "    def __init__(self):\n",
    "        self.__balance = 0\n",
    "\n",
    "    def deposit(self, amount):\n",
    "        if amount > 0:\n",
    "            self.__balance += amount\n",
    "\n",
    "    def withdraw(self, amount):\n",
    "        if 0 < amount <= self.__balance:\n",
    "            self.__balance -= amount\n",
    "        else:\n",
    "            print(\"Invalid withdrawal amount\")\n",
    "\n",
    "    def get_balance(self):\n",
    "        return self.__balance\n",
    "\n",
    "account = BankAccount()\n",
    "account.deposit(2000)\n",
    "account.withdraw(500)\n",
    "print(account.get_balance())"
   ]
  },
  {
   "cell_type": "markdown",
   "id": "de7be142-1256-4d21-a8ba-dd467957d487",
   "metadata": {},
   "source": [
    "# 6. Demonstrate runtime polymorphism using a method play() in a base class Instrument. Derive classes Guitar and Piano that implement their own version of play().\n"
   ]
  },
  {
   "cell_type": "code",
   "execution_count": 15,
   "id": "84c8c9b4-655f-4bfe-93c8-45af2f69d74a",
   "metadata": {},
   "outputs": [
    {
     "name": "stdout",
     "output_type": "stream",
     "text": [
      "Guitar strumming\n",
      "Piano playing melody\n"
     ]
    }
   ],
   "source": [
    "class Instrument:\n",
    "    def play(self):\n",
    "        print(\"Instrument sound\")\n",
    "\n",
    "class Guitar(Instrument):\n",
    "    def play(self):\n",
    "        print(\"Guitar strumming\")\n",
    "\n",
    "class Piano (Instrument):\n",
    "    def play(self):\n",
    "        print(\"Piano playing melody\")\n",
    "\n",
    "instruments = [Guitar(), Piano()]\n",
    "for instrument in instruments:\n",
    "    instrument.play()"
   ]
  },
  {
   "cell_type": "markdown",
   "id": "946697ee-0573-49c8-91b2-4c4e0b82f7b6",
   "metadata": {},
   "source": [
    "# 7. Create a class MathOperations with a class method add_numbers() to add two numbers and a static method subtract_numbers() to subtract two numbers."
   ]
  },
  {
   "cell_type": "code",
   "execution_count": 17,
   "id": "c09a5264-6609-42e9-94e3-e4ef12119288",
   "metadata": {},
   "outputs": [
    {
     "name": "stdout",
     "output_type": "stream",
     "text": [
      "15\n",
      "5\n"
     ]
    }
   ],
   "source": [
    "class MathOperations:\n",
    "    @classmethod\n",
    "    def add(cls, a, b):\n",
    "        return a + b\n",
    "\n",
    "    @staticmethod\n",
    "    def subtract(a, b):\n",
    "        return a - b\n",
    "\n",
    "print(MathOperations.add(10, 5))\n",
    "print(MathOperations.subtract(10, 5))"
   ]
  },
  {
   "cell_type": "markdown",
   "id": "e23ab4c1-a0db-48a9-85b5-0e3a0f23d7b7",
   "metadata": {},
   "source": [
    "# 8. Implement a class Person with a class method to count the total number of persons created."
   ]
  },
  {
   "cell_type": "code",
   "execution_count": 19,
   "id": "555213bf-cec0-43c9-95fc-702316ab001e",
   "metadata": {},
   "outputs": [
    {
     "name": "stdout",
     "output_type": "stream",
     "text": [
      "2\n"
     ]
    }
   ],
   "source": [
    "class Person:\n",
    "    count = 0\n",
    "\n",
    "    def __init__(self, name):\n",
    "        self.name = name\n",
    "        Person.count += 1\n",
    "\n",
    "    @classmethod \n",
    "    def total_persons(cls):\n",
    "        return cls.count\n",
    "\n",
    "p1 = Person(\"Alice\")\n",
    "p2 = Person(\"Bob\")\n",
    "print(Person.total_persons())"
   ]
  },
  {
   "cell_type": "markdown",
   "id": "701b6759-d980-4f4a-8558-4643944378b9",
   "metadata": {},
   "source": [
    "# 9. Write a class Fraction with attributes numerator and denominator. Override the str method to display the fraction as \"numerator/denominator\"."
   ]
  },
  {
   "cell_type": "code",
   "execution_count": 20,
   "id": "b3763384-219a-485d-8e00-c0b8460795a4",
   "metadata": {},
   "outputs": [
    {
     "name": "stdout",
     "output_type": "stream",
     "text": [
      "3/8\n"
     ]
    }
   ],
   "source": [
    "class Fraction:\n",
    "    def __init__(self, num, den):\n",
    "        self.numerator = num\n",
    "        self.denominator = den\n",
    "\n",
    "    def __str__(self):\n",
    "        return f\"{self.numerator}/{self.denominator}\"\n",
    "\n",
    "frac = Fraction(3, 8)\n",
    "print(frac)"
   ]
  },
  {
   "cell_type": "markdown",
   "id": "8c333d97-70c8-413a-af19-c9dc53159ea8",
   "metadata": {},
   "source": [
    "# 10. Demonstrate operator overloading by creating a class Vector and overriding the add method to add two vectors."
   ]
  },
  {
   "cell_type": "code",
   "execution_count": 24,
   "id": "faf0ae7d-029d-4cec-841a-d1c6d430ca10",
   "metadata": {},
   "outputs": [
    {
     "name": "stdout",
     "output_type": "stream",
     "text": [
      "(4, 6)\n"
     ]
    }
   ],
   "source": [
    "class Vector:\n",
    "    def __init__(self, x, y):\n",
    "        self.x = x\n",
    "        self.y = y\n",
    "\n",
    "    def __add__(self, other):\n",
    "        return Vector(self.x + other.x, self.y + other.y)\n",
    "\n",
    "    def __str__(self):\n",
    "        return f\"({self.x}, {self.y})\"\n",
    "\n",
    "v1 = Vector(3, 4)\n",
    "v2 = Vector(1, 2)\n",
    "result = v1 + v2\n",
    "print(result)"
   ]
  },
  {
   "cell_type": "markdown",
   "id": "0c33eabb-5d2d-4750-b285-e195ccc665d8",
   "metadata": {},
   "source": [
    "# 11. Create a class Person with attributes name and age. Add a method greet() that prints \"Hello, my name is {name} and I am {age} years old.\"\n"
   ]
  },
  {
   "cell_type": "code",
   "execution_count": 26,
   "id": "96907174-7f56-4b19-a124-8cf8a991c47c",
   "metadata": {},
   "outputs": [
    {
     "name": "stdout",
     "output_type": "stream",
     "text": [
      "Hello, my name is Mayuresh and I an 22 years old.\n"
     ]
    }
   ],
   "source": [
    "class Person:\n",
    "    def __init__(self, name, age):\n",
    "        self.name = name\n",
    "        self.age = age\n",
    "\n",
    "    def greet(self):\n",
    "        print(f\"Hello, my name is {self.name} and I an {self.age} years old.\")\n",
    "\n",
    "person = Person(\"Mayuresh\", 22)\n",
    "person.greet()"
   ]
  },
  {
   "cell_type": "markdown",
   "id": "644f7a90-5516-4673-90d0-7fd3cc203322",
   "metadata": {},
   "source": [
    "# 12. Implement a class Student with attributes name and grades. Create a method average_grade() to compute the average of the grades"
   ]
  },
  {
   "cell_type": "code",
   "execution_count": 27,
   "id": "2e8d90e1-a0d5-4a61-af74-6122c6edd3d6",
   "metadata": {},
   "outputs": [
    {
     "name": "stdout",
     "output_type": "stream",
     "text": [
      "82.5\n"
     ]
    }
   ],
   "source": [
    "class Student:\n",
    "    def __init__(self, name, grades):\n",
    "        self.name = name\n",
    "        self.grades = grades\n",
    "\n",
    "    def average_grade(self):\n",
    "        return sum(self.grades) / len(self.grades)\n",
    "\n",
    "student = Student(\"Mayu\", [88, 99, 77, 66])\n",
    "print(student.average_grade())"
   ]
  },
  {
   "cell_type": "markdown",
   "id": "9d74bc82-2904-463f-b76e-55bf0c181821",
   "metadata": {},
   "source": [
    "# 13. Create a class Rectangle with methods set_dimensions() to set the dimensions and area() to calculate the area."
   ]
  },
  {
   "cell_type": "code",
   "execution_count": 28,
   "id": "8e19bbd2-7a73-461c-a0a4-615c2363fa2a",
   "metadata": {},
   "outputs": [
    {
     "name": "stdout",
     "output_type": "stream",
     "text": [
      "48\n"
     ]
    }
   ],
   "source": [
    "class Rectangle:\n",
    "    def set_dimensions(self, width, height):\n",
    "        self.width = width\n",
    "        self.height = height\n",
    "\n",
    "    def area(self):\n",
    "        return self.width * self.height\n",
    "\n",
    "rect = Rectangle()\n",
    "rect.set_dimensions(6, 8)\n",
    "print(rect.area())"
   ]
  },
  {
   "cell_type": "markdown",
   "id": "8dae9429-b842-457d-9cc4-517dee12cbc1",
   "metadata": {},
   "source": [
    "# 14. Create a class Employee with a method calculate_salary() that computes the salary based on hours worked and hourly rate. Create a derived class Manager that adds a bonus to the salary"
   ]
  },
  {
   "cell_type": "code",
   "execution_count": 30,
   "id": "7911445a-2ad2-4bd2-bd55-330012a37e8c",
   "metadata": {},
   "outputs": [
    {
     "name": "stdout",
     "output_type": "stream",
     "text": [
      "2200\n"
     ]
    }
   ],
   "source": [
    "class Employee:\n",
    "    def __init__(self, hours, rate):\n",
    "        self.hours_worked = hours\n",
    "        self.hourly_rate = rate\n",
    "\n",
    "    def calculate_salary(self):\n",
    "        return self.hours_worked * self.hourly_rate\n",
    "\n",
    "class Manager(Employee):\n",
    "    def __init__(self, hours, rate, bonus):\n",
    "        super().__init__(hours, rate)\n",
    "        self.bonus = bonus\n",
    "\n",
    "    def calculate_salary(self):\n",
    "        base_salary = super().calculate_salary()\n",
    "        return base_salary + self.bonus\n",
    "\n",
    "manager = Manager(40, 30, 1000)\n",
    "print(manager.calculate_salary())\n",
    "        "
   ]
  },
  {
   "cell_type": "markdown",
   "id": "4f5e2f46-77ba-4c0d-978e-7031b2b18eb2",
   "metadata": {},
   "source": [
    "# 15. Create a class Product with attributes name, price, and quantity. Implement a method total_price() that calculates the total price of the product."
   ]
  },
  {
   "cell_type": "code",
   "execution_count": 32,
   "id": "31ba86b0-01f9-440f-88b7-55435a227987",
   "metadata": {},
   "outputs": [
    {
     "name": "stdout",
     "output_type": "stream",
     "text": [
      "79.95\n"
     ]
    }
   ],
   "source": [
    "class Product:\n",
    "    def __init__(self, name, price, quantity):\n",
    "        self.name = name\n",
    "        self.price = price\n",
    "        self.quantity = quantity\n",
    "\n",
    "    def total_price(self):\n",
    "        return self.price * self.quantity\n",
    "\n",
    "product = Product(\"Book\", 15.99, 5)\n",
    "print(product.total_price())"
   ]
  },
  {
   "cell_type": "markdown",
   "id": "5f5469dc-9baf-434a-87ce-c4bc747ecf0d",
   "metadata": {},
   "source": [
    "# 16. Create a class Animal with an abstract method sound(). Create two derived classes Cow and Sheep that implement the sound() method."
   ]
  },
  {
   "cell_type": "code",
   "execution_count": 35,
   "id": "8a154694-1d78-4270-909d-ae84159002a8",
   "metadata": {},
   "outputs": [
    {
     "name": "stdout",
     "output_type": "stream",
     "text": [
      "Moo\n",
      "Baa\n"
     ]
    }
   ],
   "source": [
    "from abc import ABC, abstractmethod\n",
    "\n",
    "class Animal(ABC):\n",
    "    @abstractmethod\n",
    "    def sound(self):\n",
    "        pass\n",
    "\n",
    "class Cow(Animal):\n",
    "    def sound(self):\n",
    "        print(\"Moo\")\n",
    "\n",
    "class Sheep(Animal):\n",
    "    def sound(self):\n",
    "        print(\"Baa\")\n",
    "\n",
    "cow = Cow()\n",
    "sheep = Sheep()\n",
    "cow.sound()\n",
    "sheep.sound()"
   ]
  },
  {
   "cell_type": "markdown",
   "id": "86590ddf-f080-40cb-8cae-8513dee98297",
   "metadata": {},
   "source": [
    "# 17. Create a class Book with attributes title, author, and year_published. Add a method get_book_info() that returns a formatted string with the book's details.\n"
   ]
  },
  {
   "cell_type": "code",
   "execution_count": 36,
   "id": "6a70b5af-a8f9-41fb-b3c3-59c101896c21",
   "metadata": {},
   "outputs": [
    {
     "name": "stdout",
     "output_type": "stream",
     "text": [
      "'The Song Of Ice And Fire' by R. R. Martin (2011)\n"
     ]
    }
   ],
   "source": [
    "class Book:\n",
    "    def __init__(self, title, author, year):\n",
    "        self.title = title\n",
    "        self.author = author\n",
    "        self.year_published = year\n",
    "\n",
    "    def get_book_info(self):\n",
    "        return f\"'{self.title}' by {self.author} ({self.year_published})\"\n",
    "\n",
    "book = Book(\"The Song Of Ice And Fire\", \"R. R. Martin\", 2011)\n",
    "print(book.get_book_info())\n",
    "\n",
    "    "
   ]
  },
  {
   "cell_type": "markdown",
   "id": "6b48ce5f-74c6-4650-b8ce-b63e20cae8be",
   "metadata": {},
   "source": [
    "# 18. Create a class House with attributes address and price. Create a derived class Mansion that adds an attribute number_of_rooms"
   ]
  },
  {
   "cell_type": "code",
   "execution_count": 38,
   "id": "ba277f4e-973c-452d-bce6-37b422690518",
   "metadata": {},
   "outputs": [
    {
     "name": "stdout",
     "output_type": "stream",
     "text": [
      "Address: 1 Palace Road, Price: $2500000, Rooms: 20\n"
     ]
    }
   ],
   "source": [
    "class House:\n",
    "    def __init__(self, address, price):\n",
    "        self.address = address\n",
    "        self.price = price\n",
    "\n",
    "class Mansion(House):\n",
    "    def __init__(self, address, price, rooms):\n",
    "        super().__init__(address, price)\n",
    "        self.number_of_rooms = rooms\n",
    "\n",
    "mansion = Mansion(\"1 Palace Road\", 2500000, 20)\n",
    "print(f\"Address: {mansion.address}, Price: ${mansion.price}, Rooms: {mansion.number_of_rooms}\")"
   ]
  }
 ],
 "metadata": {
  "kernelspec": {
   "display_name": "Python 3 (ipykernel)",
   "language": "python",
   "name": "python3"
  },
  "language_info": {
   "codemirror_mode": {
    "name": "ipython",
    "version": 3
   },
   "file_extension": ".py",
   "mimetype": "text/x-python",
   "name": "python",
   "nbconvert_exporter": "python",
   "pygments_lexer": "ipython3",
   "version": "3.12.7"
  }
 },
 "nbformat": 4,
 "nbformat_minor": 5
}
